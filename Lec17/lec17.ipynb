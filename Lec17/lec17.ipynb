{
 "cells": [
  {
   "cell_type": "code",
   "execution_count": null,
   "metadata": {},
   "outputs": [],
   "source": [
    "import torch \n",
    "import cv2"
   ]
  },
  {
   "cell_type": "code",
   "execution_count": null,
   "metadata": {},
   "outputs": [],
   "source": [
    "def __len__(self):\n",
    "    return len(self.data_list)\n",
    "def __getitem__(self, index):\n",
    "    img_path = self.data_list[index]\n",
    "    img_label = torch.zeros(len())\n",
    "    img_label[self.data_class.index(img_path.parent)] = 1.0\n",
    "    img_tensor = read_image(img_path)"
   ]
  }
 ],
 "metadata": {
  "language_info": {
   "name": "python"
  }
 },
 "nbformat": 4,
 "nbformat_minor": 2
}

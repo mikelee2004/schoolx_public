{
  "cells": [
    {
      "cell_type": "code",
      "execution_count": null,
      "id": "c965f60a-bf14-4677-bc29-4cbc83347d85",
      "metadata": {
        "id": "c965f60a-bf14-4677-bc29-4cbc83347d85"
      },
      "outputs": [],
      "source": [
        "from torchvision.transforms import transforms"
      ]
    },
    {
      "cell_type": "code",
      "source": [
        "import cv2\n",
        "\n",
        "image = cv2.imread(\"/content/5a1cf8f3ee8a8.png\")\n",
        "image.shape"
      ],
      "metadata": {
        "colab": {
          "base_uri": "https://localhost:8080/"
        },
        "id": "_WrWB4tw7eeu",
        "outputId": "46c8271a-e7b7-4374-9fcc-cd6f766a0ce9"
      },
      "id": "_WrWB4tw7eeu",
      "execution_count": null,
      "outputs": [
        {
          "output_type": "execute_result",
          "data": {
            "text/plain": [
              "(278, 278, 3)"
            ]
          },
          "metadata": {},
          "execution_count": 5
        }
      ]
    },
    {
      "cell_type": "code",
      "source": [
        "from torchvision.io import read_image\n",
        "\n",
        "image = read_image(\"/content/5a1cf8f3ee8a8.png\")\n",
        "image.shape"
      ],
      "metadata": {
        "colab": {
          "base_uri": "https://localhost:8080/"
        },
        "id": "Xb8gA83K7L9W",
        "outputId": "2f9d3978-d103-4a9c-9aff-0689a94af326"
      },
      "id": "Xb8gA83K7L9W",
      "execution_count": null,
      "outputs": [
        {
          "output_type": "execute_result",
          "data": {
            "text/plain": [
              "torch.Size([4, 278, 278])"
            ]
          },
          "metadata": {},
          "execution_count": 6
        }
      ]
    },
    {
      "cell_type": "code",
      "source": [
        "import torch\n",
        "\n",
        "a = torch.rand(5)"
      ],
      "metadata": {
        "id": "blFfmqHRBVCx"
      },
      "id": "blFfmqHRBVCx",
      "execution_count": null,
      "outputs": []
    },
    {
      "cell_type": "code",
      "execution_count": null,
      "id": "d7d73e4f-01dc-49d3-a862-ac8dd17cdc01",
      "metadata": {
        "colab": {
          "base_uri": "https://localhost:8080/"
        },
        "id": "d7d73e4f-01dc-49d3-a862-ac8dd17cdc01",
        "outputId": "baaa1d41-f003-439b-8507-129189deda9a"
      },
      "outputs": [
        {
          "output_type": "execute_result",
          "data": {
            "text/plain": [
              "tensor([1.8895, 1.8718, 1.8669, 1.9350, 1.2967])"
            ]
          },
          "metadata": {},
          "execution_count": 9
        }
      ],
      "source": [
        "f_t = transforms.Lambda(lambda x: x * 2)\n",
        "f_t(a)\n",
        "transforms.ToPILImage()"
      ]
    },
    {
      "cell_type": "code",
      "execution_count": null,
      "id": "49e04f39-efae-4176-b652-7e676f3d1e04",
      "metadata": {
        "id": "49e04f39-efae-4176-b652-7e676f3d1e04",
        "outputId": "e9503e73-b5ca-4966-f235-86861c2812e3"
      },
      "outputs": [
        {
          "data": {
            "text/plain": [
              "tensor([[3.6096, 2.9783, 0.5833, 1.3815, 2.8053]])"
            ]
          },
          "execution_count": 5,
          "metadata": {},
          "output_type": "execute_result"
        }
      ],
      "source": [
        "f_t1 = transforms.Compose([\n",
        "    transforms.ToPILImage(),\n",
        "    transforms.Resize((124, 124)),\n",
        "    transforms.PILToTensor()\n",
        "])\n",
        "f_t1(a)\n",
        "transforms.ToPILImage()"
      ]
    },
    {
      "cell_type": "code",
      "source": [
        "import pathlib\n",
        "from torch.utils.data import Dataset"
      ],
      "metadata": {
        "id": "rqI_eMY1D--A"
      },
      "id": "rqI_eMY1D--A",
      "execution_count": null,
      "outputs": []
    },
    {
      "cell_type": "code",
      "source": [
        "class LatinDataset(Dataset):\n",
        "  def __init__(self, path_dataset: pathlib.Path):\n",
        "    self.path_dataset = path_dataset\n",
        "    self.data_list = [x for x in self.path_dataset.glob(\"**/*\") if x.is_file()]\n",
        "    self.data_class = list(set(x.parent for x in self.data_list))\n",
        "    self.transform_func = transforms.Compose([\n",
        "      transforms.ToPILImage(),\n",
        "      transforms.Grayscale(),\n",
        "      transforms.Resize((124, 124)),\n",
        "      transforms.PILToTensor()\n",
        "  ])\n",
        "\n",
        "  def __len__(self):\n",
        "    return len(self.data_list)\n",
        "\n",
        "  def __getitem__(self, index):\n",
        "    img_path = self.data_list[index]\n",
        "    img_label = torch.zeros(len(self.data_class))\n",
        "    img_label[self.data_class.index(img_path.parent)] = 1.0\n",
        "    img_tensor = read_image(img_path)\n",
        "    return self.transform_func(img_tensor), img_label\n"
      ],
      "metadata": {
        "id": "h5RsaNrQEZo5"
      },
      "id": "h5RsaNrQEZo5",
      "execution_count": null,
      "outputs": []
    },
    {
      "cell_type": "code",
      "source": [
        "import torch.nn as nn"
      ],
      "metadata": {
        "id": "2PluKkTAGOEp"
      },
      "id": "2PluKkTAGOEp",
      "execution_count": null,
      "outputs": []
    },
    {
      "cell_type": "code",
      "source": [
        "import torch\n",
        "\n",
        "a = torch.rand((2, 1, 1, 28))\n",
        "a.size()"
      ],
      "metadata": {
        "colab": {
          "base_uri": "https://localhost:8080/"
        },
        "id": "sji1clek8mLt",
        "outputId": "a82e83be-57f4-4dd8-f086-499eb50fe92a"
      },
      "id": "sji1clek8mLt",
      "execution_count": null,
      "outputs": [
        {
          "output_type": "execute_result",
          "data": {
            "text/plain": [
              "torch.Size([2, 1, 1, 28])"
            ]
          },
          "metadata": {},
          "execution_count": 4
        }
      ]
    },
    {
      "cell_type": "code",
      "source": [
        "a.view(-1, 28).size()"
      ],
      "metadata": {
        "colab": {
          "base_uri": "https://localhost:8080/"
        },
        "id": "GXNd6RtyFyza",
        "outputId": "c0028a7b-b1f7-4f65-fad5-78f3fb3ca6e7"
      },
      "id": "GXNd6RtyFyza",
      "execution_count": null,
      "outputs": [
        {
          "output_type": "execute_result",
          "data": {
            "text/plain": [
              "torch.Size([2, 28])"
            ]
          },
          "metadata": {},
          "execution_count": 7
        }
      ]
    },
    {
      "cell_type": "code",
      "source": [
        "class CVModel(nn.Module):\n",
        "  def __init__(self):\n",
        "    self.conv_1 = nn.Conv2d(1, 32, (3, 3))\n",
        "    self.conv_2 = nn.Conv2d(32, 64, (3, 3))\n",
        "    self.pool_1 = nn.MaxPool2d((2, 2))\n",
        "    self.conv_3 = nn.Conv2d(64, 128, (3, 3))\n",
        "    self.conv_4 = nn.Conv2d(128, 128, (3, 3))\n",
        "    self.pool_2 = nn.MaxPool2d((2, 2))\n",
        "    self.glob_pool = nn.MaxPool2d((28, 28))\n",
        "    self.linear = nn.Linear(128, 26)\n",
        "    self.softmax = nn.Softmax()\n",
        "\n",
        "  def forward(self, X):\n",
        "    res = self.conv_1(X)\n",
        "    res = self.conv_2(res)\n",
        "    res = self.pool_1(res)\n",
        "    res = self.conv_3(res)\n",
        "    res = self.conv_4(res)\n",
        "    res = self.pool_2(res)\n",
        "    res = self.glob_pool(res)\n",
        "    res = self.linear(res.view(-1, 128))\n",
        "    return self.softmax(res)\n"
      ],
      "metadata": {
        "id": "hjRTX9Uf3bfv"
      },
      "id": "hjRTX9Uf3bfv",
      "execution_count": null,
      "outputs": []
    }
  ],
  "metadata": {
    "kernelspec": {
      "display_name": "Python 3 (ipykernel)",
      "language": "python",
      "name": "python3"
    },
    "language_info": {
      "codemirror_mode": {
        "name": "ipython",
        "version": 3
      },
      "file_extension": ".py",
      "mimetype": "text/x-python",
      "name": "python",
      "nbconvert_exporter": "python",
      "pygments_lexer": "ipython3",
      "version": "3.10.5"
    },
    "colab": {
      "provenance": []
    }
  },
  "nbformat": 4,
  "nbformat_minor": 5
}
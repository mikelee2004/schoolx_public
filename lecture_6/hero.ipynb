{
 "cells": [
  {
   "cell_type": "code",
   "execution_count": 313,
   "id": "0fa6f341-e3b9-4d8d-bf0b-c0bdf6847275",
   "metadata": {},
   "outputs": [],
   "source": [
    "class Character:\n",
    "    def __init__(\n",
    "        self,\n",
    "        strength,\n",
    "        agility,\n",
    "        intelligence\n",
    "    ):\n",
    "        self.strength = strength\n",
    "        self.agility = agility\n",
    "        self.intelligence = intelligence\n",
    "    @property\n",
    "    def speed(self):\n",
    "        return self.agility*1,5\n",
    "\n",
    "    @property\n",
    "    def damage(self):\n",
    "        return self.strength + self.intelligence\n",
    "\n",
    "    def trade(a,b):\n",
    "        a = input('Введите название предмета, который хотите поменять!')\n",
    "        b = input('Введите название предмета, который хотите поменять!')\n",
    "        print('Вы поменяли', a, 'на', b)\n",
    "        \n",
    "    def wait():\n",
    "        print('Персонаж ожидает!')\n",
    "        \n",
    "    def think():\n",
    "        print('Персонаж обдумывает!')\n",
    "        \n",
    "    def move():\n",
    "        print('Персонаж передвигается со скоростью', speed)\n",
    "        \n",
    "\n",
    "class Hero(Character):\n",
    "    def __init__(\n",
    "        self, \n",
    "        strength, \n",
    "        agility,\n",
    "        intelligence,\n",
    "        specialSkill\n",
    "    ):\n",
    "        super().__init__(strength, agility, intelligence)\n",
    "        self.specialSkill = specialSkill\n",
    "\n",
    "    def use_specialSkill(self):\n",
    "        print('Я остановлю негров!')\n",
    "        \n",
    "\n",
    "    def showStats(self):\n",
    "        print(\"Strength is: \", self.strength, \"Agility is: \", self.agility, \"Intelligence is: \", self.intelligence, \"Super power: \", self.specialSkill)\n",
    "\n",
    "class Villain(Character):\n",
    "    def __init__(self, strength, agility, intelligence, evil_plan):\n",
    "        super().__init__(strength, agility, intelligence)\n",
    "        self.evil_plan = evil_plan\n",
    "\n",
    "    def execute_evil_plan(self):\n",
    "        print('Я ограблю банк!')\n",
    "\n",
    "    def showStats1(self):\n",
    "        print(\"Strength is: \", self.strength, \"Agility is: \", self.agility, \"Intelligence is: \", self.intelligence, \"Evil plan: \", self.evil_plan)\n",
    "        "
   ]
  },
  {
   "cell_type": "code",
   "execution_count": 314,
   "id": "6650e110-db57-43e3-8840-8ac85d3fcc69",
   "metadata": {},
   "outputs": [],
   "source": [
    "class Policeman(Hero):\n",
    "    def __init__(\n",
    "        self,\n",
    "        strength, \n",
    "        agility,\n",
    "        intelligence,\n",
    "        ammo,\n",
    "        specialSkill\n",
    "    ):\n",
    "        super().__init__(strength, agility, intelligence, specialSkill)\n",
    "        self.ammo = ammo\n",
    "    def use_ar15(self):\n",
    "        print(\"Policeman shot\", self.ammo, 'bullets at a thief!')\n",
    "        \n",
    "    "
   ]
  },
  {
   "cell_type": "code",
   "execution_count": 315,
   "id": "f4b61e6e-bf61-467e-b1b5-3b96c587135f",
   "metadata": {},
   "outputs": [],
   "source": [
    "class Thief(Villain):\n",
    "    def __init__(\n",
    "        self, \n",
    "        strenght,\n",
    "        agility,\n",
    "        intelligence,\n",
    "        evil_plan,\n",
    "        ammo1\n",
    "    ):\n",
    "        super().__init__(strenght, agility, intelligence, evil_plan)\n",
    "        self.ammo1 = ammo1\n",
    "    def use_glock18(self):\n",
    "        print('Robber shot back at a Policeman', ammo1, 'bullets!')\n",
    "    def showStats1(self):\n",
    "        print(\"Strength is: \", self.strength, \"Agility is: \", self.agility, \"Intelligence is: \", self.intelligence, \"Evil plan is: \", self.evil_plan, \"Ammo is: \", self.ammo1)"
   ]
  },
  {
   "cell_type": "code",
   "execution_count": 316,
   "id": "c1f05008-2129-460b-8213-cf25758df7a1",
   "metadata": {},
   "outputs": [],
   "source": [
    "policeman_1 = Policeman(10, 30, 50, 200, 'Racist!')"
   ]
  },
  {
   "cell_type": "code",
   "execution_count": 317,
   "id": "c65173be-ffba-4530-9192-9cf38e41f207",
   "metadata": {},
   "outputs": [
    {
     "name": "stdout",
     "output_type": "stream",
     "text": [
      "Policeman shot 200 bullets at a thief!\n"
     ]
    }
   ],
   "source": [
    "policeman_1.use_ar15()"
   ]
  },
  {
   "cell_type": "code",
   "execution_count": 318,
   "id": "2a49a44e-8931-4d5a-b843-70a1c53b44af",
   "metadata": {},
   "outputs": [],
   "source": [
    "policeman_2 = Policeman(10, 30, 70, 100, 'Racist!')"
   ]
  },
  {
   "cell_type": "code",
   "execution_count": 319,
   "id": "60bd8b76-7704-418d-bcbd-b7c99e576f36",
   "metadata": {},
   "outputs": [
    {
     "name": "stdout",
     "output_type": "stream",
     "text": [
      "Policeman shot 100 bullets at a thief!\n"
     ]
    }
   ],
   "source": [
    "policeman_2.use_ar15()"
   ]
  },
  {
   "cell_type": "code",
   "execution_count": 320,
   "id": "ad12a85f-b11b-400b-8f1f-93d71be1105d",
   "metadata": {},
   "outputs": [
    {
     "name": "stdout",
     "output_type": "stream",
     "text": [
      "Strength is:  10 Agility is:  30 Intelligence is:  70 Super power:  Racist!\n"
     ]
    }
   ],
   "source": [
    "policeman_2.showStats()"
   ]
  },
  {
   "cell_type": "code",
   "execution_count": 321,
   "id": "6ee01656-1183-473a-b8c9-292807cd88e9",
   "metadata": {},
   "outputs": [
    {
     "name": "stdout",
     "output_type": "stream",
     "text": [
      "Strength is:  10 Agility is:  30 Intelligence is:  50 Super power:  Racist!\n"
     ]
    }
   ],
   "source": [
    "policeman_1.showStats()"
   ]
  },
  {
   "cell_type": "code",
   "execution_count": 322,
   "id": "ca290172-d6b3-4c96-97f5-739b9de4b086",
   "metadata": {},
   "outputs": [],
   "source": [
    "thief_1 = Thief(20, 30, 30, 'Rob a bank!', 100)"
   ]
  },
  {
   "cell_type": "code",
   "execution_count": 323,
   "id": "b4c7bb24-ab1d-4948-bd7f-44efecbf7408",
   "metadata": {},
   "outputs": [
    {
     "name": "stdout",
     "output_type": "stream",
     "text": [
      "Strength is:  20 Agility is:  30 Intelligence is:  30 Evil plan is:  Rob a bank! Ammo is:  100\n"
     ]
    }
   ],
   "source": [
    "thief_1.showStats1()"
   ]
  },
  {
   "cell_type": "code",
   "execution_count": 324,
   "id": "1957042e-65db-4f7d-8cf8-80ca6267e36f",
   "metadata": {},
   "outputs": [],
   "source": [
    "thief_2 = Thief(30, 30, 40, 'Kill somebody!', 90)"
   ]
  },
  {
   "cell_type": "code",
   "execution_count": 325,
   "id": "777b3017-e1df-4880-a7b9-e703e835f6b5",
   "metadata": {},
   "outputs": [
    {
     "name": "stdout",
     "output_type": "stream",
     "text": [
      "Strength is:  30 Agility is:  30 Intelligence is:  40 Evil plan is:  Kill somebody! Ammo is:  90\n"
     ]
    }
   ],
   "source": [
    "thief_2.showStats1()"
   ]
  },
  {
   "cell_type": "code",
   "execution_count": 326,
   "id": "753eead0-7a8d-4b7a-b703-ab2030fc404c",
   "metadata": {},
   "outputs": [
    {
     "ename": "TypeError",
     "evalue": "'int' object is not callable",
     "output_type": "error",
     "traceback": [
      "\u001b[1;31m---------------------------------------------------------------------------\u001b[0m",
      "\u001b[1;31mTypeError\u001b[0m                                 Traceback (most recent call last)",
      "Cell \u001b[1;32mIn[326], line 1\u001b[0m\n\u001b[1;32m----> 1\u001b[0m \u001b[43mthief_1\u001b[49m\u001b[38;5;241;43m.\u001b[39;49m\u001b[43mdamage\u001b[49m\u001b[43m(\u001b[49m\u001b[43m)\u001b[49m\n",
      "\u001b[1;31mTypeError\u001b[0m: 'int' object is not callable"
     ]
    }
   ],
   "source": [
    "thief_1.damage()"
   ]
  },
  {
   "cell_type": "code",
   "execution_count": null,
   "id": "1d7e8fba-9d11-4837-9ab7-2369656ed55e",
   "metadata": {},
   "outputs": [],
   "source": []
  },
  {
   "cell_type": "code",
   "execution_count": null,
   "id": "60d94ae7-3841-4878-b2e2-f0f8f8546511",
   "metadata": {},
   "outputs": [],
   "source": []
  }
 ],
 "metadata": {
  "kernelspec": {
   "display_name": "Python 3 (ipykernel)",
   "language": "python",
   "name": "python3"
  },
  "language_info": {
   "codemirror_mode": {
    "name": "ipython",
    "version": 3
   },
   "file_extension": ".py",
   "mimetype": "text/x-python",
   "name": "python",
   "nbconvert_exporter": "python",
   "pygments_lexer": "ipython3",
   "version": "3.11.5"
  }
 },
 "nbformat": 4,
 "nbformat_minor": 5
}

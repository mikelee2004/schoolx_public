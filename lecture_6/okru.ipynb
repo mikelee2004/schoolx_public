{
 "cells": [
  {
   "cell_type": "code",
   "execution_count": 19,
   "id": "4201dce6-6522-4a5c-abaf-a842cb00c963",
   "metadata": {},
   "outputs": [],
   "source": [
    "class Human:\n",
    "\n",
    "    def __init__(\n",
    "        self,\n",
    "        weight: float | int = 180,\n",
    "        height: float | int = 70,\n",
    "        name: str | None = None\n",
    "    ):\n",
    "        self.weight = weight\n",
    "        self.height = height\n",
    "        self.name = name\n",
    "    \n",
    "    def walk(self, speed = 12):\n",
    "        print('Vova is walking rn! his speed is ', speed)\n",
    "    def run(self, speed = 15):\n",
    "        print('бегит', speed)\n",
    "    def breath(self):\n",
    "        print('I CANT BREATH!!! I CANT BREATH!!!!!')"
   ]
  },
  {
   "cell_type": "code",
   "execution_count": null,
   "id": "939bb24f-76db-48ae-8673-256dd9af00aa",
   "metadata": {},
   "outputs": [],
   "source": [
    "vova1 = Human()\n",
    "\n",
    "vova1.run()\n",
    "\n",
    "class HumanWorker(Human):\n",
    "    def run(self):\n",
    "        print('бегит по заводу низя')\n"
   ]
  },
  {
   "cell_type": "code",
   "execution_count": 40,
   "id": "99eed5b1-2237-4d2d-a4ec-7d1dc4c1b713",
   "metadata": {},
   "outputs": [],
   "source": [
    "vlad = HumanWorker()"
   ]
  },
  {
   "cell_type": "code",
   "execution_count": 41,
   "id": "b8b92649-c97b-440b-90d1-458a65bf9c42",
   "metadata": {},
   "outputs": [
    {
     "name": "stdout",
     "output_type": "stream",
     "text": [
      "бегит по заводу низя\n"
     ]
    }
   ],
   "source": [
    "vlad.run()"
   ]
  },
  {
   "cell_type": "code",
   "execution_count": null,
   "id": "e6c40fb3-4fbe-4dfe-8970-7d35618ba748",
   "metadata": {},
   "outputs": [],
   "source": []
  },
  {
   "cell_type": "code",
   "execution_count": null,
   "id": "3ac390f4-ca5d-49ea-a767-cebb8e0bc7c5",
   "metadata": {},
   "outputs": [],
   "source": []
  },
  {
   "cell_type": "code",
   "execution_count": null,
   "id": "4c3df290-fe61-4ffa-8ba6-4fcdc157c0e5",
   "metadata": {},
   "outputs": [],
   "source": []
  },
  {
   "cell_type": "code",
   "execution_count": null,
   "id": "17b3825b-be35-4217-8299-5df4803e6258",
   "metadata": {},
   "outputs": [],
   "source": []
  },
  {
   "cell_type": "code",
   "execution_count": null,
   "id": "fd7f8480-f4d1-49a4-b6a7-a2561b6afe19",
   "metadata": {},
   "outputs": [],
   "source": []
  },
  {
   "cell_type": "code",
   "execution_count": null,
   "id": "90f30587-e5a6-46f8-971a-d27f346e38f4",
   "metadata": {},
   "outputs": [],
   "source": []
  }
 ],
 "metadata": {
  "kernelspec": {
   "display_name": "Python 3 (ipykernel)",
   "language": "python",
   "name": "python3"
  },
  "language_info": {
   "codemirror_mode": {
    "name": "ipython",
    "version": 3
   },
   "file_extension": ".py",
   "mimetype": "text/x-python",
   "name": "python",
   "nbconvert_exporter": "python",
   "pygments_lexer": "ipython3",
   "version": "3.11.5"
  }
 },
 "nbformat": 4,
 "nbformat_minor": 5
}

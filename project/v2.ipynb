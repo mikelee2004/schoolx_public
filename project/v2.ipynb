{
 "cells": [
  {
   "cell_type": "code",
   "execution_count": 1,
   "metadata": {},
   "outputs": [],
   "source": [
    "from sklearn.compose import ColumnTransformer\n",
    "from sklearn.preprocessing import OneHotEncoder\n",
    "from sklearn.preprocessing import LabelEncoder\n",
    "import pandas as pd\n",
    "\n",
    "# Load the data\n",
    "df = pd.read_csv('Names.csv')\n",
    "\n",
    "# Инициализация преобразователей\n",
    "label_encoder = LabelEncoder()\n",
    "one_hot_encoder = OneHotEncoder()\n",
    "\n",
    "# Применение LabelEncoder к столбцу \"Значение\"\n",
    "df['Значение'] = label_encoder.fit_transform(df['Значение'])\n",
    "\n",
    "# Применение OneHotEncoder к закодированному столбцу \"Значение\"\n",
    "one_hot_encoded = one_hot_encoder.fit_transform(df[['Значение']])\n",
    "\n",
    "# Добавление векторизированных значений в исходный DataFrame\n",
    "df_encoded = pd.concat([df, pd.DataFrame(one_hot_encoded.toarray(), columns=one_hot_encoder.get_feature_names_out())], axis=1)\n",
    "\n",
    "\n"
   ]
  },
  {
   "cell_type": "code",
   "execution_count": 2,
   "metadata": {},
   "outputs": [
    {
     "data": {
      "text/html": [
       "<div>\n",
       "<style scoped>\n",
       "    .dataframe tbody tr th:only-of-type {\n",
       "        vertical-align: middle;\n",
       "    }\n",
       "\n",
       "    .dataframe tbody tr th {\n",
       "        vertical-align: top;\n",
       "    }\n",
       "\n",
       "    .dataframe thead th {\n",
       "        text-align: right;\n",
       "    }\n",
       "</style>\n",
       "<table border=\"1\" class=\"dataframe\">\n",
       "  <thead>\n",
       "    <tr style=\"text-align: right;\">\n",
       "      <th></th>\n",
       "      <th>Имя</th>\n",
       "      <th>Значение</th>\n",
       "    </tr>\n",
       "  </thead>\n",
       "  <tbody>\n",
       "    <tr>\n",
       "      <th>0</th>\n",
       "      <td>Абга</td>\n",
       "      <td>836</td>\n",
       "    </tr>\n",
       "    <tr>\n",
       "      <th>1</th>\n",
       "      <td>Абрагь</td>\n",
       "      <td>128</td>\n",
       "    </tr>\n",
       "    <tr>\n",
       "      <th>2</th>\n",
       "      <td>Абрскил</td>\n",
       "      <td>1077</td>\n",
       "    </tr>\n",
       "    <tr>\n",
       "      <th>3</th>\n",
       "      <td>Адгур</td>\n",
       "      <td>5115</td>\n",
       "    </tr>\n",
       "    <tr>\n",
       "      <th>4</th>\n",
       "      <td>Алхас</td>\n",
       "      <td>3538</td>\n",
       "    </tr>\n",
       "  </tbody>\n",
       "</table>\n",
       "</div>"
      ],
      "text/plain": [
       "      Имя   Значение\n",
       "0     Абга       836\n",
       "1   Абрагь       128\n",
       "2  Абрскил      1077\n",
       "3    Адгур      5115\n",
       "4    Алхас      3538"
      ]
     },
     "execution_count": 2,
     "metadata": {},
     "output_type": "execute_result"
    }
   ],
   "source": [
    "df.head(5)"
   ]
  },
  {
   "cell_type": "code",
   "execution_count": 3,
   "metadata": {},
   "outputs": [],
   "source": [
    "# Обратное преобразование закодированных значений обратно в исходные текстовые значения\n",
    "original_values = label_encoder.inverse_transform(df['Значение'])\n",
    "\n",
    "# Добавление исходных текстовых значений обратно в DataFrame\n",
    "df['Original_Value'] = original_values\n"
   ]
  },
  {
   "cell_type": "code",
   "execution_count": 4,
   "metadata": {},
   "outputs": [
    {
     "data": {
      "text/html": [
       "<div>\n",
       "<style scoped>\n",
       "    .dataframe tbody tr th:only-of-type {\n",
       "        vertical-align: middle;\n",
       "    }\n",
       "\n",
       "    .dataframe tbody tr th {\n",
       "        vertical-align: top;\n",
       "    }\n",
       "\n",
       "    .dataframe thead th {\n",
       "        text-align: right;\n",
       "    }\n",
       "</style>\n",
       "<table border=\"1\" class=\"dataframe\">\n",
       "  <thead>\n",
       "    <tr style=\"text-align: right;\">\n",
       "      <th></th>\n",
       "      <th>Имя</th>\n",
       "      <th>Значение</th>\n",
       "      <th>Original_Value</th>\n",
       "    </tr>\n",
       "  </thead>\n",
       "  <tbody>\n",
       "    <tr>\n",
       "      <th>0</th>\n",
       "      <td>Абга</td>\n",
       "      <td>836</td>\n",
       "      <td>волк</td>\n",
       "    </tr>\n",
       "    <tr>\n",
       "      <th>1</th>\n",
       "      <td>Абрагь</td>\n",
       "      <td>128</td>\n",
       "      <td>арбек</td>\n",
       "    </tr>\n",
       "    <tr>\n",
       "      <th>2</th>\n",
       "      <td>Абрскил</td>\n",
       "      <td>1077</td>\n",
       "      <td>герой</td>\n",
       "    </tr>\n",
       "    <tr>\n",
       "      <th>3</th>\n",
       "      <td>Адгур</td>\n",
       "      <td>5115</td>\n",
       "      <td>сильный защитник</td>\n",
       "    </tr>\n",
       "    <tr>\n",
       "      <th>4</th>\n",
       "      <td>Алхас</td>\n",
       "      <td>3538</td>\n",
       "      <td>особый</td>\n",
       "    </tr>\n",
       "  </tbody>\n",
       "</table>\n",
       "</div>"
      ],
      "text/plain": [
       "      Имя   Значение    Original_Value\n",
       "0     Абга       836              волк\n",
       "1   Абрагь       128             арбек\n",
       "2  Абрскил      1077             герой\n",
       "3    Адгур      5115  сильный защитник\n",
       "4    Алхас      3538            особый"
      ]
     },
     "execution_count": 4,
     "metadata": {},
     "output_type": "execute_result"
    }
   ],
   "source": [
    "df.head(5)"
   ]
  },
  {
   "cell_type": "code",
   "execution_count": 5,
   "metadata": {},
   "outputs": [
    {
     "name": "stdout",
     "output_type": "stream",
     "text": [
      "Значение\n",
      "5605    213\n",
      "365     194\n",
      "2325    143\n",
      "4502    135\n",
      "6163    130\n",
      "       ... \n",
      "2709      1\n",
      "5629      1\n",
      "818       1\n",
      "1011      1\n",
      "401       1\n",
      "Name: count, Length: 6472, dtype: int64\n"
     ]
    }
   ],
   "source": [
    "duplicates = df['Значение'].value_counts()\n",
    "\n",
    "print(duplicates)"
   ]
  },
  {
   "cell_type": "code",
   "execution_count": 6,
   "metadata": {},
   "outputs": [
    {
     "name": "stdout",
     "output_type": "stream",
     "text": [
      "Requirement already satisfied: nltk in c:\\users\\misha\\appdata\\local\\packages\\pythonsoftwarefoundation.python.3.11_qbz5n2kfra8p0\\localcache\\local-packages\\python311\\site-packages (3.8.1)\n",
      "Requirement already satisfied: click in c:\\users\\misha\\appdata\\local\\packages\\pythonsoftwarefoundation.python.3.11_qbz5n2kfra8p0\\localcache\\local-packages\\python311\\site-packages (from nltk) (8.1.7)\n",
      "Requirement already satisfied: joblib in c:\\users\\misha\\appdata\\local\\packages\\pythonsoftwarefoundation.python.3.11_qbz5n2kfra8p0\\localcache\\local-packages\\python311\\site-packages (from nltk) (1.3.2)\n",
      "Requirement already satisfied: regex>=2021.8.3 in c:\\users\\misha\\appdata\\local\\packages\\pythonsoftwarefoundation.python.3.11_qbz5n2kfra8p0\\localcache\\local-packages\\python311\\site-packages (from nltk) (2023.10.3)\n",
      "Requirement already satisfied: tqdm in c:\\users\\misha\\appdata\\local\\packages\\pythonsoftwarefoundation.python.3.11_qbz5n2kfra8p0\\localcache\\local-packages\\python311\\site-packages (from nltk) (4.66.1)\n",
      "Requirement already satisfied: colorama in c:\\users\\misha\\appdata\\local\\packages\\pythonsoftwarefoundation.python.3.11_qbz5n2kfra8p0\\localcache\\local-packages\\python311\\site-packages (from click->nltk) (0.4.6)\n",
      "Note: you may need to restart the kernel to use updated packages.\n"
     ]
    },
    {
     "name": "stderr",
     "output_type": "stream",
     "text": [
      "\n",
      "[notice] A new release of pip is available: 23.3 -> 23.3.2\n",
      "[notice] To update, run: C:\\Users\\misha\\AppData\\Local\\Microsoft\\WindowsApps\\PythonSoftwareFoundation.Python.3.11_qbz5n2kfra8p0\\python.exe -m pip install --upgrade pip\n"
     ]
    }
   ],
   "source": [
    "%pip install nltk"
   ]
  },
  {
   "cell_type": "code",
   "execution_count": 7,
   "metadata": {},
   "outputs": [
    {
     "name": "stderr",
     "output_type": "stream",
     "text": [
      "[nltk_data] Downloading package punkt to\n",
      "[nltk_data]     C:\\Users\\misha\\AppData\\Roaming\\nltk_data...\n",
      "[nltk_data]   Package punkt is already up-to-date!\n"
     ]
    },
    {
     "data": {
      "text/plain": [
       "True"
      ]
     },
     "execution_count": 7,
     "metadata": {},
     "output_type": "execute_result"
    }
   ],
   "source": [
    "import nltk\n",
    "nltk.download('punkt')"
   ]
  },
  {
   "cell_type": "code",
   "execution_count": 8,
   "metadata": {},
   "outputs": [
    {
     "data": {
      "text/html": [
       "<div>\n",
       "<style scoped>\n",
       "    .dataframe tbody tr th:only-of-type {\n",
       "        vertical-align: middle;\n",
       "    }\n",
       "\n",
       "    .dataframe tbody tr th {\n",
       "        vertical-align: top;\n",
       "    }\n",
       "\n",
       "    .dataframe thead th {\n",
       "        text-align: right;\n",
       "    }\n",
       "</style>\n",
       "<table border=\"1\" class=\"dataframe\">\n",
       "  <thead>\n",
       "    <tr style=\"text-align: right;\">\n",
       "      <th></th>\n",
       "      <th>Имя</th>\n",
       "      <th>Значение</th>\n",
       "      <th>Original_Value</th>\n",
       "      <th>токены</th>\n",
       "    </tr>\n",
       "  </thead>\n",
       "  <tbody>\n",
       "    <tr>\n",
       "      <th>0</th>\n",
       "      <td>Абга</td>\n",
       "      <td>836</td>\n",
       "      <td>волк</td>\n",
       "      <td>[волк]</td>\n",
       "    </tr>\n",
       "    <tr>\n",
       "      <th>1</th>\n",
       "      <td>Абрагь</td>\n",
       "      <td>128</td>\n",
       "      <td>арбек</td>\n",
       "      <td>[арбек]</td>\n",
       "    </tr>\n",
       "    <tr>\n",
       "      <th>2</th>\n",
       "      <td>Абрскил</td>\n",
       "      <td>1077</td>\n",
       "      <td>герой</td>\n",
       "      <td>[герой]</td>\n",
       "    </tr>\n",
       "    <tr>\n",
       "      <th>3</th>\n",
       "      <td>Адгур</td>\n",
       "      <td>5115</td>\n",
       "      <td>сильный защитник</td>\n",
       "      <td>[сильный, защитник]</td>\n",
       "    </tr>\n",
       "    <tr>\n",
       "      <th>4</th>\n",
       "      <td>Алхас</td>\n",
       "      <td>3538</td>\n",
       "      <td>особый</td>\n",
       "      <td>[особый]</td>\n",
       "    </tr>\n",
       "    <tr>\n",
       "      <th>5</th>\n",
       "      <td>Анос</td>\n",
       "      <td>1513</td>\n",
       "      <td>друг</td>\n",
       "      <td>[друг]</td>\n",
       "    </tr>\n",
       "    <tr>\n",
       "      <th>6</th>\n",
       "      <td>Анри</td>\n",
       "      <td>2955</td>\n",
       "      <td>мужественный</td>\n",
       "      <td>[мужественный]</td>\n",
       "    </tr>\n",
       "    <tr>\n",
       "      <th>7</th>\n",
       "      <td>Аслан</td>\n",
       "      <td>2476</td>\n",
       "      <td>лев</td>\n",
       "      <td>[лев]</td>\n",
       "    </tr>\n",
       "    <tr>\n",
       "      <th>8</th>\n",
       "      <td>Астамур</td>\n",
       "      <td>3086</td>\n",
       "      <td>настоящее железо</td>\n",
       "      <td>[настоящее, железо]</td>\n",
       "    </tr>\n",
       "    <tr>\n",
       "      <th>9</th>\n",
       "      <td>Ахра</td>\n",
       "      <td>5146</td>\n",
       "      <td>скала</td>\n",
       "      <td>[скала]</td>\n",
       "    </tr>\n",
       "  </tbody>\n",
       "</table>\n",
       "</div>"
      ],
      "text/plain": [
       "      Имя   Значение    Original_Value               токены\n",
       "0     Абга       836              волк               [волк]\n",
       "1   Абрагь       128             арбек              [арбек]\n",
       "2  Абрскил      1077             герой              [герой]\n",
       "3    Адгур      5115  сильный защитник  [сильный, защитник]\n",
       "4    Алхас      3538            особый             [особый]\n",
       "5     Анос      1513              друг               [друг]\n",
       "6     Анри      2955      мужественный       [мужественный]\n",
       "7    Аслан      2476               лев                [лев]\n",
       "8  Астамур      3086  настоящее железо  [настоящее, железо]\n",
       "9     Ахра      5146             скала              [скала]"
      ]
     },
     "execution_count": 8,
     "metadata": {},
     "output_type": "execute_result"
    }
   ],
   "source": [
    "from sklearn.feature_extraction.text import CountVectorizer\n",
    "from nltk.tokenize import word_tokenize\n",
    "\n",
    "\n",
    "# Токенизация каждой строки в столбце и создание нового столбца с токенами\n",
    "df['токены'] = df['Original_Value'].apply(lambda text: word_tokenize(text))\n",
    "\n",
    "df.head(10)\n",
    "\n"
   ]
  },
  {
   "cell_type": "code",
   "execution_count": 9,
   "metadata": {},
   "outputs": [
    {
     "name": "stdout",
     "output_type": "stream",
     "text": [
      "Requirement already satisfied: gensim in c:\\users\\misha\\appdata\\local\\packages\\pythonsoftwarefoundation.python.3.11_qbz5n2kfra8p0\\localcache\\local-packages\\python311\\site-packages (4.3.2)\n",
      "Requirement already satisfied: numpy>=1.18.5 in c:\\users\\misha\\appdata\\local\\packages\\pythonsoftwarefoundation.python.3.11_qbz5n2kfra8p0\\localcache\\local-packages\\python311\\site-packages (from gensim) (1.26.1)\n",
      "Requirement already satisfied: scipy>=1.7.0 in c:\\users\\misha\\appdata\\local\\packages\\pythonsoftwarefoundation.python.3.11_qbz5n2kfra8p0\\localcache\\local-packages\\python311\\site-packages (from gensim) (1.11.4)\n",
      "Requirement already satisfied: smart-open>=1.8.1 in c:\\users\\misha\\appdata\\local\\packages\\pythonsoftwarefoundation.python.3.11_qbz5n2kfra8p0\\localcache\\local-packages\\python311\\site-packages (from gensim) (6.4.0)\n",
      "Note: you may need to restart the kernel to use updated packages.\n"
     ]
    },
    {
     "name": "stderr",
     "output_type": "stream",
     "text": [
      "\n",
      "[notice] A new release of pip is available: 23.3 -> 23.3.2\n",
      "[notice] To update, run: C:\\Users\\misha\\AppData\\Local\\Microsoft\\WindowsApps\\PythonSoftwareFoundation.Python.3.11_qbz5n2kfra8p0\\python.exe -m pip install --upgrade pip\n"
     ]
    }
   ],
   "source": [
    "%pip install gensim"
   ]
  },
  {
   "cell_type": "code",
   "execution_count": 10,
   "metadata": {},
   "outputs": [],
   "source": [
    "import gensim.downloader as api\n",
    "\n",
    "model = api.load(\"word2vec-ruscorpora-300\")"
   ]
  },
  {
   "cell_type": "code",
   "execution_count": 11,
   "metadata": {},
   "outputs": [
    {
     "data": {
      "text/plain": [
       "[('господь_NOUN', 0.8023737668991089),\n",
       " ('христос_NOUN', 0.6623279452323914),\n",
       " ('всевышний_NOUN', 0.6598852872848511),\n",
       " ('божество_NOUN', 0.6551232933998108),\n",
       " ('господи_NOUN', 0.6267621517181396)]"
      ]
     },
     "execution_count": 11,
     "metadata": {},
     "output_type": "execute_result"
    }
   ],
   "source": [
    "from gensim.models import Word2Vec\n",
    "import gensim\n",
    "from gensim.models import KeyedVectors\n",
    "from nltk import word_tokenize\n",
    "import numpy as np\n",
    "\n",
    "# Преобразование токенов в токенизированные слова\n",
    "tokenized_text = [word_tokenize(str(text)) for text in df['Original_Value']]\n",
    "\n",
    "sim_words = model.most_similar('бог_NOUN', topn=5)\n",
    "sim_words"
   ]
  },
  {
   "cell_type": "code",
   "execution_count": 12,
   "metadata": {},
   "outputs": [
    {
     "data": {
      "text/plain": [
       "['fasttext-wiki-news-subwords-300',\n",
       " 'conceptnet-numberbatch-17-06-300',\n",
       " 'word2vec-ruscorpora-300',\n",
       " 'word2vec-google-news-300',\n",
       " 'glove-wiki-gigaword-50',\n",
       " 'glove-wiki-gigaword-100',\n",
       " 'glove-wiki-gigaword-200',\n",
       " 'glove-wiki-gigaword-300',\n",
       " 'glove-twitter-25',\n",
       " 'glove-twitter-50',\n",
       " 'glove-twitter-100',\n",
       " 'glove-twitter-200',\n",
       " '__testing_word2vec-matrix-synopsis']"
      ]
     },
     "execution_count": 12,
     "metadata": {},
     "output_type": "execute_result"
    }
   ],
   "source": [
    "import gensim.downloader as api\n",
    "list(gensim.downloader.info()['models'].keys())"
   ]
  },
  {
   "cell_type": "code",
   "execution_count": 13,
   "metadata": {},
   "outputs": [
    {
     "ename": "KeyError",
     "evalue": "'вектор'",
     "output_type": "error",
     "traceback": [
      "\u001b[1;31m---------------------------------------------------------------------------\u001b[0m",
      "\u001b[1;31mKeyError\u001b[0m                                  Traceback (most recent call last)",
      "File \u001b[1;32m~\\AppData\\Local\\Packages\\PythonSoftwareFoundation.Python.3.11_qbz5n2kfra8p0\\LocalCache\\local-packages\\Python311\\site-packages\\pandas\\core\\indexes\\base.py:3790\u001b[0m, in \u001b[0;36mIndex.get_loc\u001b[1;34m(self, key)\u001b[0m\n\u001b[0;32m   3789\u001b[0m \u001b[38;5;28;01mtry\u001b[39;00m:\n\u001b[1;32m-> 3790\u001b[0m     \u001b[38;5;28;01mreturn\u001b[39;00m \u001b[38;5;28;43mself\u001b[39;49m\u001b[38;5;241;43m.\u001b[39;49m\u001b[43m_engine\u001b[49m\u001b[38;5;241;43m.\u001b[39;49m\u001b[43mget_loc\u001b[49m\u001b[43m(\u001b[49m\u001b[43mcasted_key\u001b[49m\u001b[43m)\u001b[49m\n\u001b[0;32m   3791\u001b[0m \u001b[38;5;28;01mexcept\u001b[39;00m \u001b[38;5;167;01mKeyError\u001b[39;00m \u001b[38;5;28;01mas\u001b[39;00m err:\n",
      "File \u001b[1;32mindex.pyx:152\u001b[0m, in \u001b[0;36mpandas._libs.index.IndexEngine.get_loc\u001b[1;34m()\u001b[0m\n",
      "File \u001b[1;32mindex.pyx:181\u001b[0m, in \u001b[0;36mpandas._libs.index.IndexEngine.get_loc\u001b[1;34m()\u001b[0m\n",
      "File \u001b[1;32mpandas\\_libs\\hashtable_class_helper.pxi:7080\u001b[0m, in \u001b[0;36mpandas._libs.hashtable.PyObjectHashTable.get_item\u001b[1;34m()\u001b[0m\n",
      "File \u001b[1;32mpandas\\_libs\\hashtable_class_helper.pxi:7088\u001b[0m, in \u001b[0;36mpandas._libs.hashtable.PyObjectHashTable.get_item\u001b[1;34m()\u001b[0m\n",
      "\u001b[1;31mKeyError\u001b[0m: 'вектор'",
      "\nThe above exception was the direct cause of the following exception:\n",
      "\u001b[1;31mKeyError\u001b[0m                                  Traceback (most recent call last)",
      "Cell \u001b[1;32mIn[13], line 1\u001b[0m\n\u001b[1;32m----> 1\u001b[0m v \u001b[38;5;241m=\u001b[39m \u001b[43mdf\u001b[49m\u001b[43m[\u001b[49m\u001b[38;5;124;43m'\u001b[39;49m\u001b[38;5;124;43mвектор\u001b[39;49m\u001b[38;5;124;43m'\u001b[39;49m\u001b[43m]\u001b[49m\u001b[38;5;241m.\u001b[39miloc[\u001b[38;5;241m0\u001b[39m]\n\u001b[0;32m      2\u001b[0m v\n",
      "File \u001b[1;32m~\\AppData\\Local\\Packages\\PythonSoftwareFoundation.Python.3.11_qbz5n2kfra8p0\\LocalCache\\local-packages\\Python311\\site-packages\\pandas\\core\\frame.py:3896\u001b[0m, in \u001b[0;36mDataFrame.__getitem__\u001b[1;34m(self, key)\u001b[0m\n\u001b[0;32m   3894\u001b[0m \u001b[38;5;28;01mif\u001b[39;00m \u001b[38;5;28mself\u001b[39m\u001b[38;5;241m.\u001b[39mcolumns\u001b[38;5;241m.\u001b[39mnlevels \u001b[38;5;241m>\u001b[39m \u001b[38;5;241m1\u001b[39m:\n\u001b[0;32m   3895\u001b[0m     \u001b[38;5;28;01mreturn\u001b[39;00m \u001b[38;5;28mself\u001b[39m\u001b[38;5;241m.\u001b[39m_getitem_multilevel(key)\n\u001b[1;32m-> 3896\u001b[0m indexer \u001b[38;5;241m=\u001b[39m \u001b[38;5;28;43mself\u001b[39;49m\u001b[38;5;241;43m.\u001b[39;49m\u001b[43mcolumns\u001b[49m\u001b[38;5;241;43m.\u001b[39;49m\u001b[43mget_loc\u001b[49m\u001b[43m(\u001b[49m\u001b[43mkey\u001b[49m\u001b[43m)\u001b[49m\n\u001b[0;32m   3897\u001b[0m \u001b[38;5;28;01mif\u001b[39;00m is_integer(indexer):\n\u001b[0;32m   3898\u001b[0m     indexer \u001b[38;5;241m=\u001b[39m [indexer]\n",
      "File \u001b[1;32m~\\AppData\\Local\\Packages\\PythonSoftwareFoundation.Python.3.11_qbz5n2kfra8p0\\LocalCache\\local-packages\\Python311\\site-packages\\pandas\\core\\indexes\\base.py:3797\u001b[0m, in \u001b[0;36mIndex.get_loc\u001b[1;34m(self, key)\u001b[0m\n\u001b[0;32m   3792\u001b[0m     \u001b[38;5;28;01mif\u001b[39;00m \u001b[38;5;28misinstance\u001b[39m(casted_key, \u001b[38;5;28mslice\u001b[39m) \u001b[38;5;129;01mor\u001b[39;00m (\n\u001b[0;32m   3793\u001b[0m         \u001b[38;5;28misinstance\u001b[39m(casted_key, abc\u001b[38;5;241m.\u001b[39mIterable)\n\u001b[0;32m   3794\u001b[0m         \u001b[38;5;129;01mand\u001b[39;00m \u001b[38;5;28many\u001b[39m(\u001b[38;5;28misinstance\u001b[39m(x, \u001b[38;5;28mslice\u001b[39m) \u001b[38;5;28;01mfor\u001b[39;00m x \u001b[38;5;129;01min\u001b[39;00m casted_key)\n\u001b[0;32m   3795\u001b[0m     ):\n\u001b[0;32m   3796\u001b[0m         \u001b[38;5;28;01mraise\u001b[39;00m InvalidIndexError(key)\n\u001b[1;32m-> 3797\u001b[0m     \u001b[38;5;28;01mraise\u001b[39;00m \u001b[38;5;167;01mKeyError\u001b[39;00m(key) \u001b[38;5;28;01mfrom\u001b[39;00m \u001b[38;5;21;01merr\u001b[39;00m\n\u001b[0;32m   3798\u001b[0m \u001b[38;5;28;01mexcept\u001b[39;00m \u001b[38;5;167;01mTypeError\u001b[39;00m:\n\u001b[0;32m   3799\u001b[0m     \u001b[38;5;66;03m# If we have a listlike key, _check_indexing_error will raise\u001b[39;00m\n\u001b[0;32m   3800\u001b[0m     \u001b[38;5;66;03m#  InvalidIndexError. Otherwise we fall through and re-raise\u001b[39;00m\n\u001b[0;32m   3801\u001b[0m     \u001b[38;5;66;03m#  the TypeError.\u001b[39;00m\n\u001b[0;32m   3802\u001b[0m     \u001b[38;5;28mself\u001b[39m\u001b[38;5;241m.\u001b[39m_check_indexing_error(key)\n",
      "\u001b[1;31mKeyError\u001b[0m: 'вектор'"
     ]
    }
   ],
   "source": [
    "v = df['вектор'].iloc[0]\n",
    "v"
   ]
  },
  {
   "cell_type": "code",
   "execution_count": null,
   "metadata": {},
   "outputs": [
    {
     "name": "stdout",
     "output_type": "stream",
     "text": [
      "Центроиды: [array([-1.89634762e-04,  4.40270468e-04,  1.37910399e-04,  5.62945481e-05,\n",
      "        2.55698031e-05, -8.45498974e-04,  2.16633842e-04,  1.11487649e-03,\n",
      "       -3.36346503e-04, -3.54324011e-04, -1.29174398e-04, -6.43410997e-04,\n",
      "       -1.70924495e-04,  2.21697083e-04,  1.52307927e-04, -4.55665537e-04,\n",
      "        2.73053618e-04, -4.45183983e-04, -1.05147761e-04, -9.39154147e-04,\n",
      "        2.43280685e-04,  8.66496651e-05,  4.31775424e-04, -2.17258472e-04,\n",
      "       -1.13268485e-04, -1.98017999e-06, -4.37406524e-04, -5.88555466e-05,\n",
      "       -3.90110828e-04,  1.31160429e-04,  3.56605856e-04, -3.40682461e-06,\n",
      "        2.11652233e-04, -5.71329589e-04, -2.53236648e-04,  3.49991860e-04,\n",
      "        1.63491780e-04, -3.71780947e-04, -2.99055715e-04, -6.66648605e-04,\n",
      "       -8.93157275e-05, -3.60860731e-04, -3.85029366e-04,  9.48578342e-05,\n",
      "        2.33459747e-04, -2.98417126e-04, -3.33918355e-04, -7.30270954e-05,\n",
      "        3.02881000e-04,  4.19240965e-04,  1.05006086e-04, -4.47961198e-04,\n",
      "       -6.65276146e-05, -6.94322539e-05, -1.36735371e-04,  2.10614564e-04,\n",
      "        4.06032030e-04, -5.90881832e-05, -5.37679520e-04,  2.15908194e-04,\n",
      "        1.24189029e-04,  1.62704032e-04, -1.90375778e-05, -3.82274824e-05,\n",
      "       -5.53795961e-04,  5.05413875e-04,  1.91769993e-04,  4.69688028e-04,\n",
      "       -7.40255343e-04,  4.92485045e-04, -3.40192632e-05,  4.04750512e-04,\n",
      "        4.70582093e-04, -2.55111953e-04,  6.21258349e-04,  3.41904080e-04,\n",
      "        5.74914052e-05,  1.85286751e-04, -3.87925799e-04, -1.73282380e-04,\n",
      "       -3.37769105e-04,  2.90395805e-05, -3.04246498e-04,  6.35164689e-04,\n",
      "       -2.66777490e-04, -2.20496842e-04,  1.87293528e-04,  4.58711856e-04,\n",
      "        4.90499309e-04,  8.18432389e-05,  7.31855766e-04,  2.11008786e-04,\n",
      "        6.60511221e-05,  7.95263732e-05,  8.24750070e-04,  2.82955535e-04,\n",
      "        2.05581949e-04, -4.02370214e-04,  1.34748378e-04,  8.84183806e-06])]\n"
     ]
    }
   ],
   "source": [
    "import numpy as np\n",
    "\n",
    "def k_means(data, k):\n",
    "    # Инициализация центроид\n",
    "    centroids = data[np.random.choice(range(len(data)), size=k)]\n",
    "\n",
    "    while True:\n",
    "        # Выделение кластеров\n",
    "        clusters = [[] for i in range(k)]\n",
    "        for point in data:\n",
    "            distances = [np.linalg.norm(point - centroid) for centroid in centroids]\n",
    "            closest_centroid_idx = np.argmin(distances)\n",
    "            clusters[closest_centroid_idx].append(point)\n",
    "\n",
    "        # Обновление центроид\n",
    "        new_centroids = []\n",
    "        for cluster in clusters:\n",
    "            if len(cluster) > 0:\n",
    "                cluster_mean = np.mean(cluster, axis=0)\n",
    "                new_centroids.append(cluster_mean)\n",
    "\n",
    "        # Проверка на сходимость\n",
    "        if np.allclose(centroids, new_centroids):\n",
    "            break\n",
    "\n",
    "        centroids = new_centroids\n",
    "\n",
    "    return centroids\n",
    "\n",
    "# Пример использования\n",
    "data = np.array(df['вектор'].tolist(), dtype=float)\n",
    "k = 1\n",
    "centroids = k_means(data, k)\n",
    "print(\"Центроиды:\", centroids)\n"
   ]
  },
  {
   "cell_type": "code",
   "execution_count": null,
   "metadata": {},
   "outputs": [],
   "source": [
    "def find_closest_vector(centroid, vectors):\n",
    "    min_distance = float('inf')\n",
    "    closest_vector = None\n",
    "    \n",
    "    for vector in vectors:\n",
    "        distance = np.linalg.norm(centroid - vector)\n",
    "        \n",
    "        if distance < min_distance:\n",
    "            min_distance = distance\n",
    "            closest_vector = vector\n",
    "    \n",
    "    return closest_vector"
   ]
  },
  {
   "cell_type": "code",
   "execution_count": null,
   "metadata": {},
   "outputs": [
    {
     "name": "stdout",
     "output_type": "stream",
     "text": [
      "Ближайщий вектор: [-1.15074553e-03  1.58622501e-03 -1.98012839e-04 -1.05944707e-03\n",
      " -1.82146463e-03 -1.11289947e-03 -2.10964177e-03 -1.77248055e-03\n",
      "  1.88377490e-03  2.30703297e-03 -5.26114123e-03 -3.64770849e-03\n",
      " -1.22325763e-03  8.92060673e-04 -2.95633380e-03 -5.40878760e-04\n",
      " -4.15016317e-03 -4.13960379e-04  1.66452197e-03 -7.02757291e-04\n",
      " -1.90176129e-03 -5.44882780e-03 -9.60121827e-04  1.28260261e-03\n",
      " -8.41276720e-04  1.95933945e-03 -1.99026645e-03 -1.87210787e-03\n",
      "  1.82763037e-03  3.60042444e-03 -1.00630072e-03 -4.71751671e-04\n",
      "  3.60191441e-03  2.39741608e-03 -1.46119382e-03 -2.08633797e-03\n",
      " -2.13326774e-03  1.16702646e-03  4.55981621e-04 -4.46921991e-04\n",
      "  3.47536484e-04  1.53957478e-03 -3.88595027e-03  1.24432674e-03\n",
      "  3.80455322e-03 -1.86853821e-03  3.97730172e-04  2.81343547e-04\n",
      " -1.37583175e-03 -2.29409722e-03  2.18316664e-03  2.26574420e-03\n",
      "  1.58936609e-03 -2.00403044e-03 -2.40874209e-03 -2.34534838e-04\n",
      " -8.94967622e-05  3.39622749e-03 -3.85229141e-03 -3.66082450e-03\n",
      " -3.04050555e-03  1.21280027e-04 -5.67631408e-05 -1.65042720e-04\n",
      " -3.59132754e-03  6.34065155e-04 -4.05170179e-04 -1.12130951e-03\n",
      " -3.79519199e-03  2.59807799e-04  1.09670984e-03 -6.28090459e-04\n",
      "  4.78962380e-03  5.10059840e-04  1.61228135e-03  4.07699830e-03\n",
      " -4.53974308e-03 -6.35383292e-04  1.07917207e-03  1.55181396e-03\n",
      "  6.73202449e-04 -1.66661865e-03  1.95449383e-04  4.75126086e-04\n",
      " -1.00389589e-05  2.15809183e-03  3.05371082e-03  4.77401685e-03\n",
      "  1.42726286e-03 -2.90834460e-03  2.00613096e-03 -2.40039473e-03\n",
      " -4.75016683e-03 -5.43825910e-04  3.94441228e-03  3.01774465e-04\n",
      " -1.22526280e-03  1.44316687e-03  2.06157809e-03  3.21479378e-03]\n"
     ]
    }
   ],
   "source": [
    "vectors = data\n",
    "\n",
    "closest_vector = find_closest_vector(centroids, vectors)\n",
    "print(\"Ближайщий вектор:\", closest_vector)"
   ]
  },
  {
   "cell_type": "code",
   "execution_count": null,
   "metadata": {},
   "outputs": [
    {
     "data": {
      "text/plain": [
       "[('лет', 0.4902796149253845)]"
      ]
     },
     "execution_count": 16,
     "metadata": {},
     "output_type": "execute_result"
    }
   ],
   "source": [
    "word_vector = closest_vector\n",
    "similar_word = model.wv.most_similar(positive=[word_vector], topn=1)\n",
    "similar_word"
   ]
  },
  {
   "cell_type": "code",
   "execution_count": null,
   "metadata": {},
   "outputs": [],
   "source": []
  }
 ],
 "metadata": {
  "kernelspec": {
   "display_name": "Python 3",
   "language": "python",
   "name": "python3"
  },
  "language_info": {
   "codemirror_mode": {
    "name": "ipython",
    "version": 3
   },
   "file_extension": ".py",
   "mimetype": "text/x-python",
   "name": "python",
   "nbconvert_exporter": "python",
   "pygments_lexer": "ipython3",
   "version": "3.11.7"
  }
 },
 "nbformat": 4,
 "nbformat_minor": 2
}

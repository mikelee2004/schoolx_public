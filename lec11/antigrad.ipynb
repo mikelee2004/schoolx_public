{
 "cells": [
  {
   "cell_type": "code",
   "execution_count": 2,
   "metadata": {},
   "outputs": [
    {
     "name": "stdout",
     "output_type": "stream",
     "text": [
      "Collecting sympy\n",
      "  Downloading sympy-1.12-py3-none-any.whl (5.7 MB)\n",
      "     ---------------------------------------- 0.0/5.7 MB ? eta -:--:--\n",
      "     ---------------------------------------- 0.0/5.7 MB ? eta -:--:--\n",
      "      --------------------------------------- 0.1/5.7 MB 919.0 kB/s eta 0:00:07\n",
      "     - -------------------------------------- 0.2/5.7 MB 1.2 MB/s eta 0:00:05\n",
      "     - -------------------------------------- 0.2/5.7 MB 1.3 MB/s eta 0:00:05\n",
      "     -- ------------------------------------- 0.3/5.7 MB 1.3 MB/s eta 0:00:05\n",
      "     -- ------------------------------------- 0.3/5.7 MB 1.4 MB/s eta 0:00:04\n",
      "     -- ------------------------------------- 0.4/5.7 MB 1.3 MB/s eta 0:00:05\n",
      "     --- ------------------------------------ 0.5/5.7 MB 1.5 MB/s eta 0:00:04\n",
      "     ----- ---------------------------------- 0.8/5.7 MB 2.0 MB/s eta 0:00:03\n",
      "     ----- ---------------------------------- 0.8/5.7 MB 2.0 MB/s eta 0:00:03\n",
      "     ----- ---------------------------------- 0.8/5.7 MB 2.0 MB/s eta 0:00:03\n",
      "     ------ --------------------------------- 0.9/5.7 MB 1.6 MB/s eta 0:00:03\n",
      "     ------ --------------------------------- 0.9/5.7 MB 1.6 MB/s eta 0:00:03\n",
      "     ------- -------------------------------- 1.1/5.7 MB 1.8 MB/s eta 0:00:03\n",
      "     -------- ------------------------------- 1.2/5.7 MB 1.7 MB/s eta 0:00:03\n",
      "     -------- ------------------------------- 1.2/5.7 MB 1.7 MB/s eta 0:00:03\n",
      "     ----------- ---------------------------- 1.7/5.7 MB 2.2 MB/s eta 0:00:02\n",
      "     ----------- ---------------------------- 1.7/5.7 MB 2.1 MB/s eta 0:00:02\n",
      "     ------------ --------------------------- 1.8/5.7 MB 2.1 MB/s eta 0:00:02\n",
      "     ------------- -------------------------- 1.9/5.7 MB 2.2 MB/s eta 0:00:02\n",
      "     --------------- ------------------------ 2.2/5.7 MB 2.4 MB/s eta 0:00:02\n",
      "     ---------------- ----------------------- 2.3/5.7 MB 2.4 MB/s eta 0:00:02\n",
      "     ----------------- ---------------------- 2.5/5.7 MB 2.4 MB/s eta 0:00:02\n",
      "     ------------------- -------------------- 2.8/5.7 MB 2.6 MB/s eta 0:00:02\n",
      "     ------------------- -------------------- 2.8/5.7 MB 2.5 MB/s eta 0:00:02\n",
      "     -------------------- ------------------- 3.0/5.7 MB 2.5 MB/s eta 0:00:02\n",
      "     ----------------------- ---------------- 3.3/5.7 MB 2.8 MB/s eta 0:00:01\n",
      "     ----------------------- ---------------- 3.4/5.7 MB 2.6 MB/s eta 0:00:01\n",
      "     ----------------------- ---------------- 3.4/5.7 MB 2.6 MB/s eta 0:00:01\n",
      "     ------------------------- -------------- 3.7/5.7 MB 2.7 MB/s eta 0:00:01\n",
      "     --------------------------- ------------ 3.9/5.7 MB 2.8 MB/s eta 0:00:01\n",
      "     --------------------------- ------------ 4.0/5.7 MB 2.7 MB/s eta 0:00:01\n",
      "     ------------------------------ --------- 4.4/5.7 MB 2.9 MB/s eta 0:00:01\n",
      "     ------------------------------ --------- 4.4/5.7 MB 2.9 MB/s eta 0:00:01\n",
      "     ------------------------------ --------- 4.4/5.7 MB 2.9 MB/s eta 0:00:01\n",
      "     ------------------------------- -------- 4.5/5.7 MB 2.8 MB/s eta 0:00:01\n",
      "     ---------------------------------- ----- 5.0/5.7 MB 2.9 MB/s eta 0:00:01\n",
      "     ------------------------------------ --- 5.2/5.7 MB 3.0 MB/s eta 0:00:01\n",
      "     ---------------------------------------  5.7/5.7 MB 3.2 MB/s eta 0:00:01\n",
      "     ---------------------------------------  5.7/5.7 MB 3.2 MB/s eta 0:00:01\n",
      "     ---------------------------------------- 5.7/5.7 MB 3.1 MB/s eta 0:00:00\n",
      "Collecting mpmath>=0.19 (from sympy)\n",
      "  Downloading mpmath-1.3.0-py3-none-any.whl (536 kB)\n",
      "     ---------------------------------------- 0.0/536.2 kB ? eta -:--:--\n",
      "     --------------------------- --------- 399.4/536.2 kB 12.6 MB/s eta 0:00:01\n",
      "     -------------------------------------- 536.2/536.2 kB 6.7 MB/s eta 0:00:00\n",
      "Installing collected packages: mpmath, sympy\n",
      "Successfully installed mpmath-1.3.0 sympy-1.12\n"
     ]
    },
    {
     "name": "stderr",
     "output_type": "stream",
     "text": [
      "  WARNING: The script isympy.exe is installed in 'c:\\Users\\misha\\AppData\\Local\\Programs\\Python\\Python311\\Scripts' which is not on PATH.\n",
      "  Consider adding this directory to PATH or, if you prefer to suppress this warning, use --no-warn-script-location.\n"
     ]
    },
    {
     "name": "stdout",
     "output_type": "stream",
     "text": [
      "Note: you may need to restart the kernel to use updated packages.\n"
     ]
    }
   ],
   "source": [
    "%pip install -q sympy"
   ]
  },
  {
   "cell_type": "code",
   "execution_count": 3,
   "metadata": {},
   "outputs": [],
   "source": [
    "import sympy as sp"
   ]
  },
  {
   "cell_type": "code",
   "execution_count": 4,
   "metadata": {},
   "outputs": [],
   "source": [
    "x = sp.symbols('x')"
   ]
  },
  {
   "cell_type": "code",
   "execution_count": 5,
   "metadata": {},
   "outputs": [
    {
     "data": {
      "text/latex": [
       "$\\displaystyle \\left(x - 10\\right)^{2}$"
      ],
      "text/plain": [
       "(x - 10)**2"
      ]
     },
     "execution_count": 5,
     "metadata": {},
     "output_type": "execute_result"
    }
   ],
   "source": [
    "equation = (x - 10)**2\n",
    "equation"
   ]
  },
  {
   "cell_type": "code",
   "execution_count": 6,
   "metadata": {},
   "outputs": [
    {
     "data": {
      "text/latex": [
       "$\\displaystyle 2 x - 20$"
      ],
      "text/plain": [
       "2*x - 20"
      ]
     },
     "execution_count": 6,
     "metadata": {},
     "output_type": "execute_result"
    }
   ],
   "source": [
    "sp.diff(equation)"
   ]
  },
  {
   "cell_type": "code",
   "execution_count": 7,
   "metadata": {},
   "outputs": [],
   "source": [
    "def antigrad(x):\n",
    "    return 2 * x - 20"
   ]
  },
  {
   "cell_type": "code",
   "execution_count": 14,
   "metadata": {},
   "outputs": [
    {
     "name": "stdout",
     "output_type": "stream",
     "text": [
      "x0 = 1\n",
      "x1 = 6.3999999999999995\n",
      "x2 = 8.559999999999999\n",
      "x3 = 9.424\n",
      "x4 = 9.7696\n",
      "x5 = 9.90784\n",
      "x6 = 9.963136\n",
      "x7 = 9.9852544\n",
      "x8 = 9.99410176\n",
      "x9 = 9.997640704\n",
      "x10 = 9.9990562816\n"
     ]
    }
   ],
   "source": [
    "x = 1\n",
    "lr = 0.3\n",
    "print(f\"x0 = {x}\")\n",
    "for i in range(10):\n",
    "    x = x - lr * antigrad(x)\n",
    "    print(f\"x{i+1} = {x}\")"
   ]
  },
  {
   "cell_type": "code",
   "execution_count": null,
   "metadata": {},
   "outputs": [],
   "source": []
  }
 ],
 "metadata": {
  "kernelspec": {
   "display_name": "Python 3",
   "language": "python",
   "name": "python3"
  },
  "language_info": {
   "codemirror_mode": {
    "name": "ipython",
    "version": 3
   },
   "file_extension": ".py",
   "mimetype": "text/x-python",
   "name": "python",
   "nbconvert_exporter": "python",
   "pygments_lexer": "ipython3",
   "version": "3.11.5"
  }
 },
 "nbformat": 4,
 "nbformat_minor": 2
}

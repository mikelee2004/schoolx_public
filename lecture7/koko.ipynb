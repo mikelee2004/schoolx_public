{
 "cells": [
  {
   "cell_type": "code",
   "execution_count": 35,
   "metadata": {},
   "outputs": [
    {
     "data": {
      "text/plain": [
       "(8.5, 1.7, 5)"
      ]
     },
     "execution_count": 35,
     "metadata": {},
     "output_type": "execute_result"
    }
   ],
   "source": [
    "class MosquitosCloud:\n",
    "    damage_per_mosquito = 1.7\n",
    "    mosquitos_in_cloud = 5\n",
    "\n",
    "    damage = damage_per_mosquito * mosquitos_in_cloud\n",
    "\n",
    "    def __init__(\n",
    "        self,\n",
    "        damage_per_mosquito: float = 1.7,   \n",
    "        mosquitos_in_cloud: int = 5\n",
    "    ):\n",
    "        if damage_per_mosquito is not None and mosquitos_in_cloud is not None:\n",
    "            self.damage_per_mosquito = damage_per_mosquito\n",
    "            self.mosquitos_in_cloud = mosquitos_in_cloud\n",
    "            self.damage = damage_per_mosquito * mosquitos_in_cloud\n",
    "        else:\n",
    "            raise ValueError('Provide correct variables')\n",
    "\n",
    "    def __add__(self: 'MosquitosCloud', other: 'MosquitosCloud') -> 'MosquitosCloud':\n",
    "        new_mosquitoes_cloud = MosquitosCloud(\n",
    "            damage_per_mosquito = (self.damage_per_mosquito + other.damage_per_mosquito) / 2,\n",
    "            mosquitos_in_cloud = self.mosquitos_in_cloud + other.mosquitos_in_cloud,\n",
    "        )\n",
    "        return new_mosquitoes_cloud\n",
    "    def __lt__(self, other):\n",
    "        return self.mosquitos_in_cloud<other.mosquitos_in_cloud\n",
    "    def __le__(self, other):\n",
    "        return self.mosquitos_in_cloud>other.mosquitos_in_cloud\n",
    "\n",
    "mcloud1 = MosquitosCloud()\n",
    "mcloud1.damage, mcloud1.damage_per_mosquito, mcloud1.mosquitos_in_cloud\n",
    "\n",
    "\n",
    "\n"
   ]
  },
  {
   "cell_type": "code",
   "execution_count": 28,
   "metadata": {},
   "outputs": [
    {
     "data": {
      "text/plain": [
       "20"
      ]
     },
     "execution_count": 28,
     "metadata": {},
     "output_type": "execute_result"
    }
   ],
   "source": [
    "mcloud2 = MosquitosCloud(\n",
    "    mosquitos_in_cloud=10,\n",
    "    damage_per_mosquito=2\n",
    ")\n",
    "mcloud2.damage"
   ]
  },
  {
   "cell_type": "code",
   "execution_count": 36,
   "metadata": {},
   "outputs": [
    {
     "ename": "AttributeError",
     "evalue": "'float' object has no attribute 'damage'",
     "output_type": "error",
     "traceback": [
      "\u001b[1;31m---------------------------------------------------------------------------\u001b[0m",
      "\u001b[1;31mAttributeError\u001b[0m                            Traceback (most recent call last)",
      "\u001b[1;32mc:\\Users\\misha\\Desktop\\пары\\lecture7\\koko.ipynb Cell 3\u001b[0m line \u001b[0;36m2\n\u001b[0;32m      <a href='vscode-notebook-cell:/c%3A/Users/misha/Desktop/%D0%BF%D0%B0%D1%80%D1%8B/lecture7/koko.ipynb#W2sZmlsZQ%3D%3D?line=0'>1</a>\u001b[0m mcloud3 \u001b[39m=\u001b[39m mcloud1\u001b[39m.\u001b[39mdamage \u001b[39m+\u001b[39m mcloud2\u001b[39m.\u001b[39mdamage\n\u001b[1;32m----> <a href='vscode-notebook-cell:/c%3A/Users/misha/Desktop/%D0%BF%D0%B0%D1%80%D1%8B/lecture7/koko.ipynb#W2sZmlsZQ%3D%3D?line=1'>2</a>\u001b[0m mcloud3\u001b[39m.\u001b[39;49mdamage\n",
      "\u001b[1;31mAttributeError\u001b[0m: 'float' object has no attribute 'damage'"
     ]
    }
   ],
   "source": [
    "mcloud3 = mcloud1.damage + mcloud2.damage\n",
    "mcloud3.damage"
   ]
  },
  {
   "cell_type": "code",
   "execution_count": 32,
   "metadata": {},
   "outputs": [
    {
     "data": {
      "text/plain": [
       "False"
      ]
     },
     "execution_count": 32,
     "metadata": {},
     "output_type": "execute_result"
    }
   ],
   "source": [
    "mcloud1.mosquitos_in_cloud == mcloud2.mosquitos_in_cloud"
   ]
  },
  {
   "cell_type": "code",
   "execution_count": null,
   "metadata": {},
   "outputs": [],
   "source": []
  }
 ],
 "metadata": {
  "kernelspec": {
   "display_name": "Python 3",
   "language": "python",
   "name": "python3"
  },
  "language_info": {
   "codemirror_mode": {
    "name": "ipython",
    "version": 3
   },
   "file_extension": ".py",
   "mimetype": "text/x-python",
   "name": "python",
   "nbconvert_exporter": "python",
   "pygments_lexer": "ipython3",
   "version": "3.11.5"
  },
  "orig_nbformat": 4
 },
 "nbformat": 4,
 "nbformat_minor": 2
}

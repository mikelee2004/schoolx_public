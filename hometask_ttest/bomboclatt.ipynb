{
 "cells": [
  {
   "cell_type": "code",
   "execution_count": 1,
   "metadata": {},
   "outputs": [
    {
     "name": "stdout",
     "output_type": "stream",
     "text": [
      "Note: you may need to restart the kernel to use updated packages.\n"
     ]
    },
    {
     "name": "stderr",
     "output_type": "stream",
     "text": [
      "\n",
      "[notice] A new release of pip is available: 23.2.1 -> 23.3.1\n",
      "[notice] To update, run: python.exe -m pip install --upgrade pip\n"
     ]
    },
    {
     "name": "stdout",
     "output_type": "stream",
     "text": [
      "Note: you may need to restart the kernel to use updated packages.\n"
     ]
    },
    {
     "name": "stderr",
     "output_type": "stream",
     "text": [
      "\n",
      "[notice] A new release of pip is available: 23.2.1 -> 23.3.1\n",
      "[notice] To update, run: python.exe -m pip install --upgrade pip\n"
     ]
    }
   ],
   "source": [
    "%pip install -Uq rich pandas numpy scipy\n",
    "%pip install -Uq matplotlib plotly seaborn"
   ]
  },
  {
   "cell_type": "code",
   "execution_count": 2,
   "metadata": {},
   "outputs": [],
   "source": [
    "import math \n",
    "from rich import print\n",
    "import pandas as pd\n",
    "import numpy as np\n",
    "from scipy import stats as st\n",
    "import matplotlib.pyplot as plt\n",
    "import seaborn as sns \n",
    "import plotly.express as px\n",
    "import plotly.graph_objects as go"
   ]
  },
  {
   "cell_type": "markdown",
   "metadata": {},
   "source": [
    "$ЗАДАНИЕ 1$"
   ]
  },
  {
   "cell_type": "markdown",
   "metadata": {},
   "source": [
    " $H0$ - после редизайна время использования личного кабинета на сайте изменилось (уменьшилось или увеличилось).\n",
    "\n",
    " $H1$ - после редизайна время использования личного кабинета на сайте не изменилось."
   ]
  },
  {
   "cell_type": "code",
   "execution_count": 12,
   "metadata": {},
   "outputs": [
    {
     "data": {
      "text/html": [
       "<pre style=\"white-space:pre;overflow-x:auto;line-height:normal;font-family:Menlo,'DejaVu Sans Mono',consolas,'Courier New',monospace\">p-value: <span style=\"color: #008080; text-decoration-color: #008080; font-weight: bold\">0.0751397944405015</span>\n",
       "</pre>\n"
      ],
      "text/plain": [
       "p-value: \u001b[1;36m0.0751397944405015\u001b[0m\n"
      ]
     },
     "metadata": {},
     "output_type": "display_data"
    },
    {
     "data": {
      "text/html": [
       "<pre style=\"white-space:pre;overflow-x:auto;line-height:normal;font-family:Menlo,'DejaVu Sans Mono',consolas,'Courier New',monospace\">Результаты не статистически значимы. Время использования личного кабинета не изменилось после редизайна сайта.\n",
       "</pre>\n"
      ],
      "text/plain": [
       "Результаты не статистически значимы. Время использования личного кабинета не изменилось после редизайна сайта.\n"
      ]
     },
     "metadata": {},
     "output_type": "display_data"
    }
   ],
   "source": [
    "time_before = [1732, 1301, 1540, 2247, 1632, 1550, 754, 1946, 1889,\n",
    "          2748, 1349, 1648, 1665, 2416, 1470, 1681, 1868, 1629,\n",
    "          1271, 1633, 2131, 942, 1599, 1127, 2200, 661, 1207,\n",
    "          1737, 2410, 1486]\n",
    "\n",
    "time_after = [955, 2577, 360, 139, 1618, 990, 644, 1796, 1487, 949, 472,\n",
    "         1906, 1758, 1258, 2554, 612, 309, 1864, 1294, 1487, 1164, 1559,\n",
    "         491, 2286, 1270, 2069, 1553, 1629, 1704, 1623]\n",
    "\n",
    "alpha = 0.05\n",
    "\n",
    "t_statistic, p_value = st.ttest_rel(time_before, time_after)\n",
    "\n",
    "print(f'p-value: {p_value}')\n",
    "\n",
    "if p_value < alpha:\n",
    "    print('Результаты статистически значимы. Время использования личного кабинета изменилось после редизайна сайта.')\n",
    "else:\n",
    "    print('Результаты не статистически значимы. Время использования личного кабинета не изменилось после редизайна сайта.')"
   ]
  },
  {
   "cell_type": "markdown",
   "metadata": {},
   "source": [
    "$ЗАДАНИЕ 2$"
   ]
  },
  {
   "cell_type": "markdown",
   "metadata": {},
   "source": [
    "$H0$ - Количество используемых патронов изменилось после изменений в игре.\n",
    "\n",
    "$H1$ - Количество используемых патронов не изменилось после изменений в игре."
   ]
  },
  {
   "cell_type": "code",
   "execution_count": 19,
   "metadata": {},
   "outputs": [
    {
     "data": {
      "text/html": [
       "<pre style=\"white-space:pre;overflow-x:auto;line-height:normal;font-family:Menlo,'DejaVu Sans Mono',consolas,'Courier New',monospace\">Результаты статистически значимы. Количество используемых патронов изменилось после изменений в игре.\n",
       "</pre>\n"
      ],
      "text/plain": [
       "Результаты статистически значимы. Количество используемых патронов изменилось после изменений в игре.\n"
      ]
     },
     "metadata": {},
     "output_type": "display_data"
    }
   ],
   "source": [
    "bullets_before = [821, 1164, 598, 854, 455, 1220, 161, 1400, 479, 215,\n",
    "          564, 159, 920, 173, 276, 444, 273, 711, 291, 880,\n",
    "          892, 712, 16, 476, 498, 9, 1251, 938, 389, 513]\n",
    "\n",
    "bullets_after = [904, 220, 676, 459, 299, 659, 1698, 1120, 514, 1086, 1499,\n",
    "         1262, 829, 476, 1149, 996, 1247, 1117, 1324, 532, 1458, 898,\n",
    "         1837, 455, 1667, 898, 474, 558, 639, 1012]\n",
    "\n",
    "alpha = 0.05\n",
    "\n",
    "t_statistic, p_value = st.ttest_ind(bullets_before, bullets_after)\n",
    "if p_value < alpha:\n",
    "    print(\"Результаты статистически значимы. Количество используемых патронов изменилось после изменений в игре.\")\n",
    "else:\n",
    "    print(\"Результаты не статистически значимы. Количество используемых патронов не изменилось после изменений в игре.\")\n"
   ]
  },
  {
   "cell_type": "markdown",
   "metadata": {},
   "source": [
    "Использовал st.ttest_ind() так как у нас есть две независимые группы (перед и после изменений) и нам нужно сравнить их средние значения."
   ]
  }
 ],
 "metadata": {
  "kernelspec": {
   "display_name": "Python 3",
   "language": "python",
   "name": "python3"
  },
  "language_info": {
   "codemirror_mode": {
    "name": "ipython",
    "version": 3
   },
   "file_extension": ".py",
   "mimetype": "text/x-python",
   "name": "python",
   "nbconvert_exporter": "python",
   "pygments_lexer": "ipython3",
   "version": "3.11.5"
  }
 },
 "nbformat": 4,
 "nbformat_minor": 2
}

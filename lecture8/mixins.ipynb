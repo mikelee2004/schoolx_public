{
 "cells": [
  {
   "cell_type": "code",
   "execution_count": 28,
   "metadata": {},
   "outputs": [],
   "source": [
    "class MixinPlayable:\n",
    "    def __init__(self):\n",
    "        self.playable = True\n",
    "    \n",
    "    def play(self):\n",
    "        print(f'You are playing with {self.name}')\n",
    "        pass\n",
    "    \n",
    "    def ult(self):\n",
    "        print(f\"{self.name} is ulting!\")\n",
    "        pass\n",
    "\n",
    "    def execute(self):\n",
    "        print(f'{self.name} is executing site!')\n",
    "        pass\n",
    "    \n",
    "    def die(self):\n",
    "        print(f'{self.name} died!')\n",
    "        pass\n",
    "class MixinFallable:\n",
    "    def __init__(self):\n",
    "        self.fallable = True\n",
    "    \n",
    "    def fall(self):\n",
    "        print(f'{self.name} is falling!')\n",
    "    \n",
    "class MixinTalkable:\n",
    "    def __init__(self):\n",
    "        self.talkable = True\n",
    "\n",
    "    def communicate(self):\n",
    "        print(f'{self.name} is Greeting you!')\n",
    "\n",
    "class MixinCrushable:\n",
    "    def __init__(self):\n",
    "        self.crashable = True\n",
    "    \n",
    "    def crash(self):\n",
    "        print(f'{self.name} is broken!')\n",
    "\n",
    "class MixinUltable:\n",
    "    def __init__(self):\n",
    "        self.ultable = True\n",
    "\n",
    "    def ult(self):\n",
    "        print(f\"{self.name} is Ulting!\")\n",
    "\n",
    "\n",
    "class FunkoPop(MixinCrushable, MixinFallable, MixinPlayable, MixinTalkable, MixinUltable):\n",
    "    pass\n",
    "\n",
    "class Playable(MixinPlayable, MixinTalkable):\n",
    "    pass \n",
    "\n",
    "class Character:\n",
    "    def __init__(self, name):\n",
    "        self.name = name\n",
    "\n",
    "    def introduction(self):\n",
    "        print(f'My name is {self.name}')\n",
    "\n",
    "class Jett(Character):\n",
    "    pass\n",
    "\n",
    "class Omen(Character):\n",
    "    pass \n",
    "\n",
    "class Skye(Character):\n",
    "    pass\n",
    "\n",
    "class PlayableJett(Jett, Playable):\n",
    "    def ult(self):\n",
    "        print('Get out of my way!')\n",
    "\n",
    "class FunkoJett(Jett, FunkoPop):\n",
    "    pass\n",
    "\n",
    "class PlayableOmen(Omen, Playable):\n",
    "    def ult(self):\n",
    "        print('Scatter!')\n",
    "\n",
    "class FunkoOmen(Omen, FunkoPop):\n",
    "    pass\n",
    "\n",
    "class PlayableSkye(Skye, Playable):\n",
    "    def ult(self):\n",
    "        print(\"I've got your trail!\")\n",
    "    \n",
    "class FunkoSkye(Skye, FunkoPop):\n",
    "    pass\n"
   ]
  },
  {
   "cell_type": "code",
   "execution_count": 41,
   "metadata": {},
   "outputs": [
    {
     "name": "stdout",
     "output_type": "stream",
     "text": [
      "My name is Jett\n",
      "Jett is broken!\n",
      "You are playing with Jett\n",
      "Jett is ulting!\n",
      "Jett is executing site!\n",
      "Jett died!\n",
      "Jett is falling!\n",
      "Jett is Greeting you!\n"
     ]
    }
   ],
   "source": [
    "jettToy = FunkoJett('Jett')\n",
    "jettToy.introduction()\n",
    "jettToy.crash()\n",
    "jettToy.play()\n",
    "jettToy.ult()\n",
    "jettToy.execute()\n",
    "jettToy.die()\n",
    "jettToy.fall()\n",
    "jettToy.communicate()"
   ]
  },
  {
   "cell_type": "code",
   "execution_count": 42,
   "metadata": {},
   "outputs": [
    {
     "name": "stdout",
     "output_type": "stream",
     "text": [
      "My name is Omen\n",
      "Omen is broken!\n",
      "You are playing with Omen\n",
      "Omen is ulting!\n",
      "Omen is executing site!\n",
      "Omen died!\n",
      "Omen is falling!\n",
      "Omen is Greeting you!\n"
     ]
    }
   ],
   "source": [
    "omenToy = FunkoOmen('Omen')\n",
    "omenToy.introduction()\n",
    "omenToy.crash()\n",
    "omenToy.play()\n",
    "omenToy.ult()\n",
    "omenToy.execute()\n",
    "omenToy.die()\n",
    "omenToy.fall()\n",
    "omenToy.communicate()"
   ]
  },
  {
   "cell_type": "code",
   "execution_count": 43,
   "metadata": {},
   "outputs": [
    {
     "name": "stdout",
     "output_type": "stream",
     "text": [
      "My name is Skye\n",
      "Skye is broken!\n",
      "You are playing with Skye\n",
      "Skye is ulting!\n",
      "Skye is executing site!\n",
      "Skye died!\n",
      "Skye is falling!\n",
      "Skye is Greeting you!\n"
     ]
    }
   ],
   "source": [
    "skyeToy = FunkoSkye('Skye')\n",
    "skyeToy.introduction()\n",
    "skyeToy.crash()\n",
    "skyeToy.play()\n",
    "skyeToy.ult()\n",
    "skyeToy.execute()\n",
    "skyeToy.die()\n",
    "skyeToy.fall()\n",
    "skyeToy.communicate()"
   ]
  },
  {
   "cell_type": "code",
   "execution_count": null,
   "metadata": {},
   "outputs": [],
   "source": []
  }
 ],
 "metadata": {
  "kernelspec": {
   "display_name": "Python 3",
   "language": "python",
   "name": "python3"
  },
  "language_info": {
   "codemirror_mode": {
    "name": "ipython",
    "version": 3
   },
   "file_extension": ".py",
   "mimetype": "text/x-python",
   "name": "python",
   "nbconvert_exporter": "python",
   "pygments_lexer": "ipython3",
   "version": "3.11.5"
  },
  "orig_nbformat": 4
 },
 "nbformat": 4,
 "nbformat_minor": 2
}
